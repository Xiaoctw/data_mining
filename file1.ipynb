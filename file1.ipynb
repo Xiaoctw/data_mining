{
 "cells": [
  {
   "cell_type": "code",
   "execution_count": 1,
   "metadata": {
    "collapsed": true
   },
   "outputs": [],
   "source": [
    "import pandas as pd\n",
    "import matplotlib as plt\n",
    "import seaborn as sns"
   ]
  },
  {
   "cell_type": "code",
   "execution_count": 2,
   "outputs": [],
   "source": [
    "X=pd.read_csv('train.csv')"
   ],
   "metadata": {
    "collapsed": false,
    "pycharm": {
     "name": "#%%\n"
    }
   }
  },
  {
   "cell_type": "code",
   "execution_count": 3,
   "outputs": [
    {
     "data": {
      "text/plain": "   ID  Age     BusinessTravel              Department  DistanceFromHome  \\\n0   0   37      Travel_Rarely  Research & Development                 1   \n1   1   54  Travel_Frequently  Research & Development                 1   \n2   2   34  Travel_Frequently  Research & Development                 7   \n3   3   39      Travel_Rarely  Research & Development                 1   \n4   4   28  Travel_Frequently  Research & Development                 1   \n\n   Education EducationField  EmployeeNumber  EnvironmentSatisfaction  Gender  \\\n0          4  Life Sciences              77                        1    Male   \n1          4  Life Sciences            1245                        4  Female   \n2          3  Life Sciences             147                        1    Male   \n3          1  Life Sciences            1026                        4  Female   \n4          3        Medical            1111                        1    Male   \n\n   ...  StandardHours  StockOptionLevel TotalWorkingYears  \\\n0  ...             80                 1                 7   \n1  ...             80                 1                33   \n2  ...             80                 0                 9   \n3  ...             80                 1                21   \n4  ...             80                 2                 1   \n\n   TrainingTimesLastYear WorkLifeBalance  YearsAtCompany  YearsInCurrentRole  \\\n0                      2               4               7                   5   \n1                      2               1               5                   4   \n2                      3               3               9                   7   \n3                      3               3              21                   6   \n4                      2               3               1                   0   \n\n  YearsSinceLastPromotion YearsWithCurrManager  Label  \n0                       0                    7      0  \n1                       1                    4      0  \n2                       0                    6      1  \n3                      11                    8      0  \n4                       0                    0      1  \n\n[5 rows x 32 columns]",
      "text/html": "<div>\n<style scoped>\n    .dataframe tbody tr th:only-of-type {\n        vertical-align: middle;\n    }\n\n    .dataframe tbody tr th {\n        vertical-align: top;\n    }\n\n    .dataframe thead th {\n        text-align: right;\n    }\n</style>\n<table border=\"1\" class=\"dataframe\">\n  <thead>\n    <tr style=\"text-align: right;\">\n      <th></th>\n      <th>ID</th>\n      <th>Age</th>\n      <th>BusinessTravel</th>\n      <th>Department</th>\n      <th>DistanceFromHome</th>\n      <th>Education</th>\n      <th>EducationField</th>\n      <th>EmployeeNumber</th>\n      <th>EnvironmentSatisfaction</th>\n      <th>Gender</th>\n      <th>...</th>\n      <th>StandardHours</th>\n      <th>StockOptionLevel</th>\n      <th>TotalWorkingYears</th>\n      <th>TrainingTimesLastYear</th>\n      <th>WorkLifeBalance</th>\n      <th>YearsAtCompany</th>\n      <th>YearsInCurrentRole</th>\n      <th>YearsSinceLastPromotion</th>\n      <th>YearsWithCurrManager</th>\n      <th>Label</th>\n    </tr>\n  </thead>\n  <tbody>\n    <tr>\n      <th>0</th>\n      <td>0</td>\n      <td>37</td>\n      <td>Travel_Rarely</td>\n      <td>Research &amp; Development</td>\n      <td>1</td>\n      <td>4</td>\n      <td>Life Sciences</td>\n      <td>77</td>\n      <td>1</td>\n      <td>Male</td>\n      <td>...</td>\n      <td>80</td>\n      <td>1</td>\n      <td>7</td>\n      <td>2</td>\n      <td>4</td>\n      <td>7</td>\n      <td>5</td>\n      <td>0</td>\n      <td>7</td>\n      <td>0</td>\n    </tr>\n    <tr>\n      <th>1</th>\n      <td>1</td>\n      <td>54</td>\n      <td>Travel_Frequently</td>\n      <td>Research &amp; Development</td>\n      <td>1</td>\n      <td>4</td>\n      <td>Life Sciences</td>\n      <td>1245</td>\n      <td>4</td>\n      <td>Female</td>\n      <td>...</td>\n      <td>80</td>\n      <td>1</td>\n      <td>33</td>\n      <td>2</td>\n      <td>1</td>\n      <td>5</td>\n      <td>4</td>\n      <td>1</td>\n      <td>4</td>\n      <td>0</td>\n    </tr>\n    <tr>\n      <th>2</th>\n      <td>2</td>\n      <td>34</td>\n      <td>Travel_Frequently</td>\n      <td>Research &amp; Development</td>\n      <td>7</td>\n      <td>3</td>\n      <td>Life Sciences</td>\n      <td>147</td>\n      <td>1</td>\n      <td>Male</td>\n      <td>...</td>\n      <td>80</td>\n      <td>0</td>\n      <td>9</td>\n      <td>3</td>\n      <td>3</td>\n      <td>9</td>\n      <td>7</td>\n      <td>0</td>\n      <td>6</td>\n      <td>1</td>\n    </tr>\n    <tr>\n      <th>3</th>\n      <td>3</td>\n      <td>39</td>\n      <td>Travel_Rarely</td>\n      <td>Research &amp; Development</td>\n      <td>1</td>\n      <td>1</td>\n      <td>Life Sciences</td>\n      <td>1026</td>\n      <td>4</td>\n      <td>Female</td>\n      <td>...</td>\n      <td>80</td>\n      <td>1</td>\n      <td>21</td>\n      <td>3</td>\n      <td>3</td>\n      <td>21</td>\n      <td>6</td>\n      <td>11</td>\n      <td>8</td>\n      <td>0</td>\n    </tr>\n    <tr>\n      <th>4</th>\n      <td>4</td>\n      <td>28</td>\n      <td>Travel_Frequently</td>\n      <td>Research &amp; Development</td>\n      <td>1</td>\n      <td>3</td>\n      <td>Medical</td>\n      <td>1111</td>\n      <td>1</td>\n      <td>Male</td>\n      <td>...</td>\n      <td>80</td>\n      <td>2</td>\n      <td>1</td>\n      <td>2</td>\n      <td>3</td>\n      <td>1</td>\n      <td>0</td>\n      <td>0</td>\n      <td>0</td>\n      <td>1</td>\n    </tr>\n  </tbody>\n</table>\n<p>5 rows × 32 columns</p>\n</div>"
     },
     "execution_count": 3,
     "metadata": {},
     "output_type": "execute_result"
    }
   ],
   "source": [
    "X.head()"
   ],
   "metadata": {
    "collapsed": false,
    "pycharm": {
     "name": "#%%\n"
    }
   }
  },
  {
   "cell_type": "code",
   "execution_count": 4,
   "outputs": [
    {
     "data": {
      "text/plain": "Index(['ID', 'Age', 'BusinessTravel', 'Department', 'DistanceFromHome',\n       'Education', 'EducationField', 'EmployeeNumber',\n       'EnvironmentSatisfaction', 'Gender', 'JobInvolvement', 'JobLevel',\n       'JobRole', 'JobSatisfaction', 'MaritalStatus', 'MonthlyIncome',\n       'NumCompaniesWorked', 'Over18', 'OverTime', 'PercentSalaryHike',\n       'PerformanceRating', 'RelationshipSatisfaction', 'StandardHours',\n       'StockOptionLevel', 'TotalWorkingYears', 'TrainingTimesLastYear',\n       'WorkLifeBalance', 'YearsAtCompany', 'YearsInCurrentRole',\n       'YearsSinceLastPromotion', 'YearsWithCurrManager', 'Label'],\n      dtype='object')"
     },
     "execution_count": 4,
     "metadata": {},
     "output_type": "execute_result"
    }
   ],
   "source": [
    "X.columns"
   ],
   "metadata": {
    "collapsed": false,
    "pycharm": {
     "name": "#%%\n"
    }
   }
  },
  {
   "cell_type": "code",
   "execution_count": 5,
   "outputs": [
    {
     "data": {
      "text/plain": "      Label\n0  0.214286\n1  0.167053\n2  0.156146\n3  0.145631\n4  0.055556",
      "text/html": "<div>\n<style scoped>\n    .dataframe tbody tr th:only-of-type {\n        vertical-align: middle;\n    }\n\n    .dataframe tbody tr th {\n        vertical-align: top;\n    }\n\n    .dataframe thead th {\n        text-align: right;\n    }\n</style>\n<table border=\"1\" class=\"dataframe\">\n  <thead>\n    <tr style=\"text-align: right;\">\n      <th></th>\n      <th>Label</th>\n    </tr>\n  </thead>\n  <tbody>\n    <tr>\n      <th>0</th>\n      <td>0.214286</td>\n    </tr>\n    <tr>\n      <th>1</th>\n      <td>0.167053</td>\n    </tr>\n    <tr>\n      <th>2</th>\n      <td>0.156146</td>\n    </tr>\n    <tr>\n      <th>3</th>\n      <td>0.145631</td>\n    </tr>\n    <tr>\n      <th>4</th>\n      <td>0.055556</td>\n    </tr>\n  </tbody>\n</table>\n</div>"
     },
     "execution_count": 5,
     "metadata": {},
     "output_type": "execute_result"
    }
   ],
   "source": [
    "X[['Education','Label']].groupby('Education').mean().sort_values(by='Label',ignore_index=True,ascending=False)\n"
   ],
   "metadata": {
    "collapsed": false,
    "pycharm": {
     "name": "#%%\n"
    }
   }
  },
  {
   "cell_type": "code",
   "execution_count": 21,
   "outputs": [
    {
     "data": {
      "text/plain": "     EducationField     Label\n0   Human Resources  0.315789\n5  Technical Degree  0.239130\n2         Marketing  0.212598\n1     Life Sciences  0.151515\n3           Medical  0.136499\n4             Other  0.111111",
      "text/html": "<div>\n<style scoped>\n    .dataframe tbody tr th:only-of-type {\n        vertical-align: middle;\n    }\n\n    .dataframe tbody tr th {\n        vertical-align: top;\n    }\n\n    .dataframe thead th {\n        text-align: right;\n    }\n</style>\n<table border=\"1\" class=\"dataframe\">\n  <thead>\n    <tr style=\"text-align: right;\">\n      <th></th>\n      <th>EducationField</th>\n      <th>Label</th>\n    </tr>\n  </thead>\n  <tbody>\n    <tr>\n      <th>0</th>\n      <td>Human Resources</td>\n      <td>0.315789</td>\n    </tr>\n    <tr>\n      <th>5</th>\n      <td>Technical Degree</td>\n      <td>0.239130</td>\n    </tr>\n    <tr>\n      <th>2</th>\n      <td>Marketing</td>\n      <td>0.212598</td>\n    </tr>\n    <tr>\n      <th>1</th>\n      <td>Life Sciences</td>\n      <td>0.151515</td>\n    </tr>\n    <tr>\n      <th>3</th>\n      <td>Medical</td>\n      <td>0.136499</td>\n    </tr>\n    <tr>\n      <th>4</th>\n      <td>Other</td>\n      <td>0.111111</td>\n    </tr>\n  </tbody>\n</table>\n</div>"
     },
     "execution_count": 21,
     "metadata": {},
     "output_type": "execute_result"
    }
   ],
   "source": [
    "X[['EducationField','Label']].groupby('EducationField',as_index=False).mean().sort_values(by='Label',ignore_index=False,ascending=False,)"
   ],
   "metadata": {
    "collapsed": false,
    "pycharm": {
     "name": "#%%\n"
    }
   }
  },
  {
   "cell_type": "code",
   "execution_count": 22,
   "outputs": [
    {
     "data": {
      "text/plain": "     EducationField     Label\n0   Human Resources  0.315789\n1  Technical Degree  0.239130\n2         Marketing  0.212598\n3     Life Sciences  0.151515\n4           Medical  0.136499\n5             Other  0.111111",
      "text/html": "<div>\n<style scoped>\n    .dataframe tbody tr th:only-of-type {\n        vertical-align: middle;\n    }\n\n    .dataframe tbody tr th {\n        vertical-align: top;\n    }\n\n    .dataframe thead th {\n        text-align: right;\n    }\n</style>\n<table border=\"1\" class=\"dataframe\">\n  <thead>\n    <tr style=\"text-align: right;\">\n      <th></th>\n      <th>EducationField</th>\n      <th>Label</th>\n    </tr>\n  </thead>\n  <tbody>\n    <tr>\n      <th>0</th>\n      <td>Human Resources</td>\n      <td>0.315789</td>\n    </tr>\n    <tr>\n      <th>1</th>\n      <td>Technical Degree</td>\n      <td>0.239130</td>\n    </tr>\n    <tr>\n      <th>2</th>\n      <td>Marketing</td>\n      <td>0.212598</td>\n    </tr>\n    <tr>\n      <th>3</th>\n      <td>Life Sciences</td>\n      <td>0.151515</td>\n    </tr>\n    <tr>\n      <th>4</th>\n      <td>Medical</td>\n      <td>0.136499</td>\n    </tr>\n    <tr>\n      <th>5</th>\n      <td>Other</td>\n      <td>0.111111</td>\n    </tr>\n  </tbody>\n</table>\n</div>"
     },
     "execution_count": 22,
     "metadata": {},
     "output_type": "execute_result"
    }
   ],
   "source": [
    "X[['EducationField','Label']].groupby('EducationField',as_index=False).mean().sort_values(by='Label',ignore_index=True,ascending=False,)"
   ],
   "metadata": {
    "collapsed": false,
    "pycharm": {
     "name": "#%%\n"
    }
   }
  },
  {
   "cell_type": "code",
   "execution_count": 17,
   "outputs": [],
   "source": [
    "def showLabel(feat):\n",
    "    return X[[feat,'Label']].groupby(feat,as_index=False).mean().sort_values(by='Label',ignore_index=True,ascending=False)"
   ],
   "metadata": {
    "collapsed": false,
    "pycharm": {
     "name": "#%%\n"
    }
   }
  },
  {
   "cell_type": "code",
   "execution_count": 18,
   "outputs": [
    {
     "data": {
      "text/plain": "   Education     Label\n0          1  0.214286\n1          3  0.167053\n2          4  0.156146\n3          2  0.145631\n4          5  0.055556",
      "text/html": "<div>\n<style scoped>\n    .dataframe tbody tr th:only-of-type {\n        vertical-align: middle;\n    }\n\n    .dataframe tbody tr th {\n        vertical-align: top;\n    }\n\n    .dataframe thead th {\n        text-align: right;\n    }\n</style>\n<table border=\"1\" class=\"dataframe\">\n  <thead>\n    <tr style=\"text-align: right;\">\n      <th></th>\n      <th>Education</th>\n      <th>Label</th>\n    </tr>\n  </thead>\n  <tbody>\n    <tr>\n      <th>0</th>\n      <td>1</td>\n      <td>0.214286</td>\n    </tr>\n    <tr>\n      <th>1</th>\n      <td>3</td>\n      <td>0.167053</td>\n    </tr>\n    <tr>\n      <th>2</th>\n      <td>4</td>\n      <td>0.156146</td>\n    </tr>\n    <tr>\n      <th>3</th>\n      <td>2</td>\n      <td>0.145631</td>\n    </tr>\n    <tr>\n      <th>4</th>\n      <td>5</td>\n      <td>0.055556</td>\n    </tr>\n  </tbody>\n</table>\n</div>"
     },
     "execution_count": 18,
     "metadata": {},
     "output_type": "execute_result"
    }
   ],
   "source": [
    "showLabel('Education')"
   ],
   "metadata": {
    "collapsed": false,
    "pycharm": {
     "name": "#%%\n"
    }
   }
  },
  {
   "cell_type": "code",
   "execution_count": 16,
   "outputs": [
    {
     "data": {
      "text/plain": "     EducationField     Label\n0   Human Resources  0.315789\n5  Technical Degree  0.239130\n2         Marketing  0.212598\n1     Life Sciences  0.151515\n3           Medical  0.136499\n4             Other  0.111111",
      "text/html": "<div>\n<style scoped>\n    .dataframe tbody tr th:only-of-type {\n        vertical-align: middle;\n    }\n\n    .dataframe tbody tr th {\n        vertical-align: top;\n    }\n\n    .dataframe thead th {\n        text-align: right;\n    }\n</style>\n<table border=\"1\" class=\"dataframe\">\n  <thead>\n    <tr style=\"text-align: right;\">\n      <th></th>\n      <th>EducationField</th>\n      <th>Label</th>\n    </tr>\n  </thead>\n  <tbody>\n    <tr>\n      <th>0</th>\n      <td>Human Resources</td>\n      <td>0.315789</td>\n    </tr>\n    <tr>\n      <th>5</th>\n      <td>Technical Degree</td>\n      <td>0.239130</td>\n    </tr>\n    <tr>\n      <th>2</th>\n      <td>Marketing</td>\n      <td>0.212598</td>\n    </tr>\n    <tr>\n      <th>1</th>\n      <td>Life Sciences</td>\n      <td>0.151515</td>\n    </tr>\n    <tr>\n      <th>3</th>\n      <td>Medical</td>\n      <td>0.136499</td>\n    </tr>\n    <tr>\n      <th>4</th>\n      <td>Other</td>\n      <td>0.111111</td>\n    </tr>\n  </tbody>\n</table>\n</div>"
     },
     "execution_count": 16,
     "metadata": {},
     "output_type": "execute_result"
    }
   ],
   "source": [],
   "metadata": {
    "collapsed": false,
    "pycharm": {
     "name": "#%%\n"
    }
   }
  },
  {
   "cell_type": "code",
   "execution_count": null,
   "outputs": [],
   "source": [],
   "metadata": {
    "collapsed": false,
    "pycharm": {
     "name": "#%%\n"
    }
   }
  }
 ],
 "metadata": {
  "kernelspec": {
   "name": "pycharm-b44d9640",
   "language": "python",
   "display_name": "PyCharm (数据挖掘)"
  },
  "language_info": {
   "codemirror_mode": {
    "name": "ipython",
    "version": 2
   },
   "file_extension": ".py",
   "mimetype": "text/x-python",
   "name": "python",
   "nbconvert_exporter": "python",
   "pygments_lexer": "ipython2",
   "version": "2.7.6"
  }
 },
 "nbformat": 4,
 "nbformat_minor": 0
}